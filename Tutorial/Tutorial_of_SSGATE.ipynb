{
 "cells": [
  {
   "cell_type": "code",
   "execution_count": null,
   "id": "initial_id",
   "metadata": {
    "collapsed": true
   },
   "outputs": [],
   "source": [
    "import sys\n",
    "import os\n",
    "import SSGATE as ssgate\n",
    "import scanpy as sc\n",
    "\n",
    "import torch\n",
    "import matplotlib.pyplot as plt"
   ]
  },
  {
   "cell_type": "code",
   "execution_count": null,
   "outputs": [],
   "source": [
    "adata_st = sc.read_h5ad('SLN_111_D1_RNA.h5ad')\n",
    "adata_sp = sc.read_h5ad('SLN_111_D1_ADT.h5ad')"
   ],
   "metadata": {
    "collapsed": false
   },
   "id": "8fc64094dd209e54"
  },
  {
   "cell_type": "code",
   "execution_count": null,
   "outputs": [],
   "source": [
    "adata_st, adata_sp = ssgate.preprocess_cluster(adata_st, adata_sp, res_st = 0.05, res_sp = 0.01, show_fig = True, figsize = (6,3))"
   ],
   "metadata": {
    "collapsed": false
   },
   "id": "a87ad3e304f96a0b"
  },
  {
   "cell_type": "code",
   "execution_count": null,
   "outputs": [],
   "source": [
    "adata_st = ssgate.Cal_Nbrs_Net(adata_st, feat = \"X_pca\", k_cutoff = 15, model = \"KNN\")\n",
    "adata_st = ssgate.prune_net(adata_st)\n",
    "ssgate.Stats_Nbrs_Net(adata_st)"
   ],
   "metadata": {
    "collapsed": false
   },
   "id": "f89d0b644b450112"
  },
  {
   "cell_type": "code",
   "execution_count": null,
   "outputs": [],
   "source": [
    "adata_sp = ssgate.Cal_Nbrs_Net(adata_sp, feat = \"X_pca\", k_cutoff = 15, model = \"KNN\")\n",
    "adata_sp = ssgate.prune_net(adata_sp)\n",
    "ssgate.Stats_Nbrs_Net(adata_sp)"
   ],
   "metadata": {
    "collapsed": false
   },
   "id": "e9e4e225b5ff98cf"
  },
  {
   "cell_type": "code",
   "execution_count": null,
   "outputs": [],
   "source": [
    "adata_st, adata_sp = ssgate.train(adata_st, adata_sp, hidden_dims1 = 128, hidden_dims2 = 128, out_dims = 30,\n",
    "                                cluster_update_epoch = 20, epochs_init = 50, n_epochs=300, save_reconstrction=False,\n",
    "                                sigma = 0.1, device = \"cuda:0\", feat1 = \"PCA\")"
   ],
   "metadata": {
    "collapsed": false
   },
   "id": "55e01eb9f0430c68"
  },
  {
   "cell_type": "code",
   "execution_count": null,
   "outputs": [],
   "source": [
    "sc.pp.neighbors(adata_st, n_neighbors = 10, use_rep='ssgate_embed')\n",
    "sc.tl.umap(adata_st)"
   ],
   "metadata": {
    "collapsed": false
   },
   "id": "b94c2e7e3d69078b"
  },
  {
   "cell_type": "code",
   "execution_count": null,
   "outputs": [],
   "source": [
    "sc.tl.leiden(adata_st, resolution = 0.15, key_added = \"ssgate_cluster\")\n",
    "plt.rcParams[\"figure.figsize\"] = [3,3]\n",
    "sc.pl.umap(adata_st, color=[\"ssgate_cluster\"], title = \"SSGATE clusters\")"
   ],
   "metadata": {
    "collapsed": false
   },
   "id": "82db0b3d823d5b6e"
  }
 ],
 "metadata": {
  "kernelspec": {
   "display_name": "Python 3",
   "language": "python",
   "name": "python3"
  },
  "language_info": {
   "codemirror_mode": {
    "name": "ipython",
    "version": 2
   },
   "file_extension": ".py",
   "mimetype": "text/x-python",
   "name": "python",
   "nbconvert_exporter": "python",
   "pygments_lexer": "ipython2",
   "version": "2.7.6"
  }
 },
 "nbformat": 4,
 "nbformat_minor": 5
}
